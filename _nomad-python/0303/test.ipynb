{
 "cells": [
  {
   "cell_type": "code",
   "execution_count": null,
   "metadata": {},
   "outputs": [
    {
     "name": "stdout",
     "output_type": "stream",
     "text": [
      " * Serving Flask app \"Python\" (lazy loading)\n",
      " * Environment: production\n",
      "   WARNING: This is a development server. Do not use it in a production deployment.\n",
      "   Use a production WSGI server instead.\n",
      " * Debug mode: off\n"
     ]
    },
    {
     "name": "stderr",
     "output_type": "stream",
     "text": [
      " * Running on http://127.0.0.1:5000/ (Press CTRL+C to quit)\n",
      "127.0.0.1 - - [02/Mar/2021 22:08:48] \"\u001b[37mGET / HTTP/1.1\u001b[0m\" 200 -\n"
     ]
    }
   ],
   "source": [
    "from flask import Flask, render_template\n",
    "\n",
    "app = Flask(\"Python\")\n",
    "\n",
    "@app.route(\"/\")\n",
    "def home():\n",
    "    return render_template(\"index.html\")\n",
    "#root에 접근했을 때 출력되는 텍스트 (html 형식으로 적으면 html 태그대로 출력됨)\n",
    "#@는 데코레이터로, 이것이 사용된 라인 바로 아래 줄에서 함수를 찾아서 실행시킴\n",
    "\n",
    "@app.route(\"/contact\")\n",
    "def contact():\n",
    "    return \"contact me\"\n",
    "#contact에 접근했을 때 텍스트가 출력되도록 함\n",
    "#함수 이름은 접근할 페이지 이름과 상관없음\n",
    "\n",
    "@app.route(\"/<username>\")\n",
    "def usr(username):\n",
    "    return f\"hello, {username}!\"\n",
    "#<> 는 Placeholder로, 안에 들은 값이 밑의 함수의 인자로 들어간다\n",
    "#이렇게 입력했을 경우, 127.0.0.1:5000/이름 입력하면 hello, 이름! 이라고 화면에 표시됨\n",
    "\n",
    "app.run(host=\"127.0.0.1\", port=\"5000\")\n",
    "#repl.it 사용 시에는 host=\"0.0.0.0\"\n",
    "#vscode 이용하여 localhost 접속시에는 127.0.0.1 (기본값)\n"
   ]
  }
 ],
 "metadata": {
  "kernelspec": {
   "display_name": "Python 3",
   "language": "python",
   "name": "python3"
  },
  "language_info": {
   "codemirror_mode": {
    "name": "ipython",
    "version": 3
   },
   "file_extension": ".py",
   "mimetype": "text/x-python",
   "name": "python",
   "nbconvert_exporter": "python",
   "pygments_lexer": "ipython3",
   "version": "3.7.4"
  }
 },
 "nbformat": 4,
 "nbformat_minor": 2
}
