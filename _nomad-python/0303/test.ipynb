{
 "cells": [
  {
   "cell_type": "code",
   "execution_count": null,
   "metadata": {},
   "outputs": [
    {
     "name": "stdout",
     "output_type": "stream",
     "text": [
      " * Serving Flask app \"Python\" (lazy loading)\n",
      " * Environment: production\n",
      "   WARNING: This is a development server. Do not use it in a production deployment.\n",
      "   Use a production WSGI server instead.\n",
      " * Debug mode: off\n"
     ]
    },
    {
     "name": "stderr",
     "output_type": "stream",
     "text": [
      " * Running on http://127.0.0.1:5000/ (Press CTRL+C to quit)\n",
      "127.0.0.1 - - [03/Mar/2021 17:53:44] \"\u001b[37mGET / HTTP/1.1\u001b[0m\" 200 -\n"
     ]
    },
    {
     "name": "stdout",
     "output_type": "stream",
     "text": [
      "Typescript Developer Jobs  - Stack Overflow\n",
      "☆Scrapping page 0 :\n",
      "☆Scrapping page 1 :\n",
      "☆Scrapping page 2 :\n",
      "☆Scrapping page 3 :\n",
      "☆Scrapping page 4 :\n",
      "☆Scrapping page 5 :\n",
      "☆Scrapping page 6 :\n",
      "☆Scrapping page 7 :\n",
      "☆Scrapping page 8 :\n",
      "☆Scrapping page 9 :\n",
      "☆Scrapping page 10 :\n",
      "☆Scrapping page 11 :\n",
      "☆Scrapping page 12 :\n",
      "☆Scrapping page 13 :\n",
      "☆Scrapping page 14 :\n",
      "☆Scrapping page 15 :\n",
      "☆Scrapping page 16 :\n",
      "☆Scrapping page 17 :\n",
      "☆Scrapping page 18 :\n",
      "☆Scrapping page 19 :\n",
      "☆Scrapping page 20 :\n",
      "☆Scrapping page 21 :\n",
      "☆Scrapping page 22 :\n",
      "☆Scrapping page 23 :\n",
      "☆Scrapping page 24 :\n",
      "☆Scrapping page 25 :\n",
      "☆Scrapping page 26 :\n",
      "☆Scrapping page 27 :\n",
      "☆Scrapping page 28 :\n",
      "☆Scrapping page 29 :\n",
      "☆Scrapping page 30 :\n",
      "☆Scrapping page 31 :\n",
      "☆Scrapping page 32 :\n",
      "☆Scrapping page 33 :\n",
      "2021년 3월 Typescript 취업, 일자리, 채용 | Indeed.com\n",
      "★Scrapping page 0 :\n",
      "★Scrapping page 1 :\n",
      "★Scrapping page 2 :\n",
      "★Scrapping page 3 :\n",
      "★Scrapping page 4 :\n"
     ]
    },
    {
     "name": "stderr",
     "output_type": "stream",
     "text": [
      "127.0.0.1 - - [03/Mar/2021 17:54:27] \"\u001b[37mGET /report?word=typescript HTTP/1.1\u001b[0m\" 200 -\n"
     ]
    }
   ],
   "source": [
    "from flask import Flask, render_template, request, redirect\n",
    "from sof_func import get_jobs as sof_get_jobs\n",
    "from indeed_func import get_jobs as indeed_get_jobs\n",
    "\n",
    "app = Flask(\"Python\")\n",
    "\n",
    "db = {}\n",
    "#fake db\n",
    "\n",
    "@app.route(\"/\")\n",
    "def home():\n",
    "    return render_template(\"index.html\")\n",
    "#root에 접근했을 때 출력되는 텍스트 (html 형식으로 적으면 html 태그대로 출력됨)\n",
    "#@는 데코레이터로, 이것이 사용된 라인 바로 아래 줄에서 함수를 찾아서 실행시킴\n",
    "\n",
    "@app.route(\"/contact\")\n",
    "def contact():\n",
    "    return \"contact me\"\n",
    "#contact에 접근했을 때 텍스트가 출력되도록 함\n",
    "#함수 이름은 접근할 페이지 이름과 상관없음\n",
    "\n",
    "@app.route(\"/<username>\")\n",
    "def usr(username):\n",
    "    return f\"hello, {username}!\"\n",
    "#<> 는 Placeholder로, 안에 들은 값이 밑의 함수의 인자로 들어간다\n",
    "#이렇게 입력했을 경우, 127.0.0.1:5000/이름 입력하면 hello, 이름! 이라고 화면에 표시됨\n",
    "\n",
    "@app.route(\"/report\")\n",
    "def report():\n",
    "    word = request.args.get(\"word\")\n",
    "    #word 에 해당하는 query argument를 가져옴 (form에서 입력받은 값)\n",
    "    #request.args는 dictionary를 return하므로, get 이용하여 key에 해당하는 value 추출\n",
    "    if word:\n",
    "        word = word.lower()\n",
    "        #word에 값이 존재할 때 소문자로 변환\n",
    "        existing_jobs = db.get(word)\n",
    "        if existing_jobs:\n",
    "            #이미 데이터베이스에 word가 존재할 경우\n",
    "            jobs = existing_jobs\n",
    "        else:\n",
    "            #데이터베이스에 자료가 없을 경우\n",
    "            jobs = sof_get_jobs(word) + indeed_get_jobs(word)\n",
    "        db[word] =jobs\n",
    "        #데이터베이스에 등록\n",
    "    else:\n",
    "        return redirect(\"/\")\n",
    "        #값이 없으면 root로 리다이렉트\n",
    "    return render_template(\n",
    "        \"report.html\", \n",
    "        SearchingBy=word, \n",
    "        resultsNum=len(jobs),\n",
    "        jobs=jobs)\n",
    "    #SearchingBy 변수를 report.html에 넘겨주며 실행시킴\n",
    "\n",
    "app.run(host=\"127.0.0.1\", port=\"5000\")\n",
    "#repl.it 사용 시에는 host=\"0.0.0.0\"\n",
    "#vscode 이용하여 localhost 접속시에는 127.0.0.1 (기본값)\n",
    "\n"
   ]
  },
  {
   "cell_type": "code",
   "execution_count": null,
   "metadata": {},
   "outputs": [],
   "source": []
  }
 ],
 "metadata": {
  "kernelspec": {
   "display_name": "Python 3",
   "language": "python",
   "name": "python3"
  },
  "language_info": {
   "codemirror_mode": {
    "name": "ipython",
    "version": 3
   },
   "file_extension": ".py",
   "mimetype": "text/x-python",
   "name": "python",
   "nbconvert_exporter": "python",
   "pygments_lexer": "ipython3",
   "version": "3.7.4"
  }
 },
 "nbformat": 4,
 "nbformat_minor": 2
}
