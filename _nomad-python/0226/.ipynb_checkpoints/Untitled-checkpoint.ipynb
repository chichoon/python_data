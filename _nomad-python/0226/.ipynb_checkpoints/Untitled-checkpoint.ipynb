{
 "cells": [
  {
   "cell_type": "code",
   "execution_count": 38,
   "metadata": {},
   "outputs": [
    {
     "name": "stdout",
     "output_type": "stream",
     "text": [
      "<title>2021년 2월 Python 취업, 일자리, 채용</title>\n",
      "5\n",
      "&start=0\n",
      "&start=50\n",
      "&start=100\n",
      "&start=150\n",
      "&start=200\n"
     ]
    }
   ],
   "source": [
    "import requests\n",
    "from bs4 import BeautifulSoup\n",
    "from indeed_func import extract_indeed_pages, extract_indeed_jobs\n",
    "#자주 쓸 코드를 함수화하여 불러옴\n",
    "\n",
    "max_indeed_pages = extract_indeed_pages()\n",
    "print(max_indeed_pages)\n",
    "\n",
    "extract_indeed_jobs(max_indeed_pages)"
   ]
  },
  {
   "cell_type": "code",
   "execution_count": 4,
   "metadata": {},
   "outputs": [
    {
     "name": "stdout",
     "output_type": "stream",
     "text": [
      "<title>chichoon (Ji Yoon Choi) · GitHub</title>\n"
     ]
    }
   ],
   "source": []
  }
 ],
 "metadata": {
  "kernelspec": {
   "display_name": "Python 3",
   "language": "python",
   "name": "python3"
  },
  "language_info": {
   "codemirror_mode": {
    "name": "ipython",
    "version": 3
   },
   "file_extension": ".py",
   "mimetype": "text/x-python",
   "name": "python",
   "nbconvert_exporter": "python",
   "pygments_lexer": "ipython3",
   "version": "3.7.4"
  }
 },
 "nbformat": 4,
 "nbformat_minor": 2
}
