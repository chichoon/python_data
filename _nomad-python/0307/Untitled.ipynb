{
 "cells": [
  {
   "cell_type": "code",
   "execution_count": null,
   "metadata": {},
   "outputs": [],
   "source": [
    "import requests\n",
    "from bs4 import BeautifulSoup\n",
    "\n",
    "word = \"python\"\n",
    "url = f\"https://weworkremotely.com/remote-jobs/search?term={word}\"\n",
    "headers = {'User-Agent': 'Mozilla/5.0 (Macintosh; Intel Mac OS X 10_9_3) AppleWebKit/537.36 (KHTML, like Gecko) Chrome/35.0.1916.47 Safari/537.36'}\n",
    "\n",
    "jobs = []\n",
    "result = requests.get(url, headers=headers)\n",
    "soup = BeautifulSoup(result.text, \"html.parser\")\n",
    "\n",
    "print(soup.title.string)\n",
    "containers = soup.find_all(\"section\", {\"class\": \"jobs\"})\n",
    "for container in containers:\n",
    "    lists = container.find_all(\"li\")\n",
    "    for l in lists:\n",
    "        title = l.find(\"span\", {\"class\": \"title\"})\n",
    "        if title:\n",
    "            title = title.get_text()\n",
    "            print(title)\n",
    "            anchors = l.find_all(\"a\")\n",
    "            if len(anchors) == 1:\n",
    "                link = \"https://weworkremotely.com\" + l.find_all(\"a\")[0][\"href\"]\n",
    "            else:\n",
    "                link = \"https://weworkremotely.com\" + l.find_all(\"a\")[1][\"href\"]\n",
    "            company = l.find(\"span\", {\"class\": \"company\"}).get_text()\n",
    "            jobs.append({\n",
    "                \"title\": title,\n",
    "                \"link\": link,\n",
    "                \"company\": company\n",
    "            })\n",
    "\n",
    "print(jobs)"
   ]
  }
 ],
 "metadata": {
  "kernelspec": {
   "display_name": "Python 3",
   "language": "python",
   "name": "python3"
  },
  "language_info": {
   "codemirror_mode": {
    "name": "ipython",
    "version": 3
   },
   "file_extension": ".py",
   "mimetype": "text/x-python",
   "name": "python",
   "nbconvert_exporter": "python",
   "pygments_lexer": "ipython3",
   "version": "3.7.4"
  }
 },
 "nbformat": 4,
 "nbformat_minor": 2
}
